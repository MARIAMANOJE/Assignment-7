{
 "cells": [
  {
   "cell_type": "code",
   "execution_count": 1,
   "id": "566c78c5",
   "metadata": {},
   "outputs": [],
   "source": [
    "import pandas as pd\n",
    "import numpy as np\n",
    "import matplotlib.pyplot as plt\n",
    "import seaborn as sns\n",
    "import statsmodels.api as sm\n",
    "from sklearn.model_selection import train_test_split\n",
    "from sklearn.linear_model import LogisticRegression\n",
    "from sklearn.tree import DecisionTreeClassifier\n",
    "from sklearn.ensemble import RandomForestClassifier\n",
    "from sklearn.datasets import make_regression\n",
    "from sklearn.metrics import mean_squared_error\n",
    "from math import sqrt\n",
    "from sklearn.linear_model import LogisticRegression\n",
    "from sklearn.datasets import make_hastie_10_2\n",
    "from sklearn.ensemble import GradientBoostingClassifier\n",
    "from sklearn.ensemble import AdaBoostClassifier\n",
    "from sklearn.datasets import make_classification"
   ]
  },
  {
   "cell_type": "code",
   "execution_count": 2,
   "id": "9a5538da",
   "metadata": {},
   "outputs": [],
   "source": [
    "roc=pd.read_csv(\"C:/Users/Mano/Documents/imarticus/Flight.csv\")"
   ]
  },
  {
   "cell_type": "code",
   "execution_count": 3,
   "id": "3758ae87",
   "metadata": {},
   "outputs": [
    {
     "data": {
      "text/plain": [
       "Person              0\n",
       "Item_Identifier     0\n",
       "Length             17\n",
       "Breadth             0\n",
       "PaperQuality        8\n",
       "Angle               4\n",
       "Foldings            0\n",
       "Windspeed           0\n",
       "Dominanthand        0\n",
       "Distance            0\n",
       "dtype: int64"
      ]
     },
     "execution_count": 3,
     "metadata": {},
     "output_type": "execute_result"
    }
   ],
   "source": [
    "roc.isnull().sum()"
   ]
  },
  {
   "cell_type": "code",
   "execution_count": 4,
   "id": "7060d50a",
   "metadata": {},
   "outputs": [],
   "source": [
    "roc.Length.fillna(roc.Length.mean(),inplace=True)"
   ]
  },
  {
   "cell_type": "code",
   "execution_count": 5,
   "id": "481dd7dd",
   "metadata": {},
   "outputs": [],
   "source": [
    "roc.PaperQuality.fillna(\"PaperQuality\",inplace=True)"
   ]
  },
  {
   "cell_type": "code",
   "execution_count": 6,
   "id": "fd5b84ae",
   "metadata": {},
   "outputs": [],
   "source": [
    "roc.Angle.fillna(\"Angle\",inplace=True)"
   ]
  },
  {
   "cell_type": "code",
   "execution_count": 7,
   "id": "fb71f5e7",
   "metadata": {},
   "outputs": [
    {
     "data": {
      "text/plain": [
       "Person             0\n",
       "Item_Identifier    0\n",
       "Length             0\n",
       "Breadth            0\n",
       "PaperQuality       0\n",
       "Angle              0\n",
       "Foldings           0\n",
       "Windspeed          0\n",
       "Dominanthand       0\n",
       "Distance           0\n",
       "dtype: int64"
      ]
     },
     "execution_count": 7,
     "metadata": {},
     "output_type": "execute_result"
    }
   ],
   "source": [
    "roc.isnull().sum()"
   ]
  },
  {
   "cell_type": "code",
   "execution_count": 8,
   "id": "d3641552",
   "metadata": {},
   "outputs": [],
   "source": [
    "roc.drop([\"PaperQuality\",\"Item_Identifier\"],axis=1,inplace=True)"
   ]
  },
  {
   "cell_type": "code",
   "execution_count": 9,
   "id": "5625a6d7",
   "metadata": {},
   "outputs": [
    {
     "data": {
      "text/plain": [
       "{'whiskers': [<matplotlib.lines.Line2D at 0x131cbfe2430>,\n",
       "  <matplotlib.lines.Line2D at 0x131cbfe2700>],\n",
       " 'caps': [<matplotlib.lines.Line2D at 0x131cbfe2a90>,\n",
       "  <matplotlib.lines.Line2D at 0x131cbfe2e20>],\n",
       " 'boxes': [<matplotlib.lines.Line2D at 0x131cb928fa0>],\n",
       " 'medians': [<matplotlib.lines.Line2D at 0x131cbff11f0>],\n",
       " 'fliers': [<matplotlib.lines.Line2D at 0x131cbff1580>],\n",
       " 'means': []}"
      ]
     },
     "execution_count": 9,
     "metadata": {},
     "output_type": "execute_result"
    },
    {
     "data": {
      "image/png": "[encoded data removed]",
      "text/plain": [
       "<Figure size 432x288 with 1 Axes>"
      ]
     },
     "metadata": {
      "needs_background": "light"
     },
     "output_type": "display_data"
    }
   ],
   "source": [
    "plt.boxplot(roc.Length)"
   ]
  },
  {
   "cell_type": "code",
   "execution_count": 10,
   "id": "107f7fb9",
   "metadata": {},
   "outputs": [],
   "source": [
    "q3=roc[\"Length\"].quantile(0.75)\n",
    "q1=roc[\"Length\"].quantile(0.25)\n",
    "iqr= q3-q1"
   ]
  },
  {
   "cell_type": "code",
   "execution_count": 11,
   "id": "cf392001",
   "metadata": {},
   "outputs": [],
   "source": [
    "lower_limt=q1-(iqr*1.5)\n",
    "upper_limt=q3+(iqr*1.5)"
   ]
  },
  {
   "cell_type": "code",
   "execution_count": 12,
   "id": "9a90d2c7",
   "metadata": {
    "scrolled": true
   },
   "outputs": [
    {
     "data": {
      "text/plain": [
       "37.0"
      ]
     },
     "execution_count": 12,
     "metadata": {},
     "output_type": "execute_result"
    }
   ],
   "source": [
    "upper_limt"
   ]
  },
  {
   "cell_type": "code",
   "execution_count": 13,
   "id": "835a7475",
   "metadata": {},
   "outputs": [
    {
     "data": {
      "text/plain": [
       "17.0"
      ]
     },
     "execution_count": 13,
     "metadata": {},
     "output_type": "execute_result"
    }
   ],
   "source": [
    "lower_limt"
   ]
  },
  {
   "cell_type": "code",
   "execution_count": 14,
   "id": "b7c02489",
   "metadata": {},
   "outputs": [],
   "source": [
    "roc[\"Length\"]=np.where(roc[\"Length\"] >= upper_limt,upper_limt,np.where(roc[\"Length\"] <= lower_limt,lower_limt,roc[\"Length\"]))"
   ]
  },
  {
   "cell_type": "code",
   "execution_count": 15,
   "id": "5850fa56",
   "metadata": {
    "scrolled": false
   },
   "outputs": [
    {
     "data": {
      "text/plain": [
       "{'whiskers': [<matplotlib.lines.Line2D at 0x131cd0b39a0>,\n",
       "  <matplotlib.lines.Line2D at 0x131cd0b3d30>],\n",
       " 'caps': [<matplotlib.lines.Line2D at 0x131cd0c0100>,\n",
       "  <matplotlib.lines.Line2D at 0x131cd0c0490>],\n",
       " 'boxes': [<matplotlib.lines.Line2D at 0x131cd0b3610>],\n",
       " 'medians': [<matplotlib.lines.Line2D at 0x131cd0c0820>],\n",
       " 'fliers': [<matplotlib.lines.Line2D at 0x131cd0c0bb0>],\n",
       " 'means': []}"
      ]
     },
     "execution_count": 15,
     "metadata": {},
     "output_type": "execute_result"
    },
    {
     "data": {
      "image/png": "[encoded data removed]",
      "text/plain": [
       "<Figure size 432x288 with 1 Axes>"
      ]
     },
     "metadata": {
      "needs_background": "light"
     },
     "output_type": "display_data"
    }
   ],
   "source": [
    "plt.boxplot(roc.Length)"
   ]
  },
  {
   "cell_type": "code",
   "execution_count": 16,
   "id": "1b5699a5",
   "metadata": {},
   "outputs": [],
   "source": [
    "dummie = pd.get_dummies(roc)"
   ]
  },
  {
   "cell_type": "code",
   "execution_count": 17,
   "id": "b1ffa0da",
   "metadata": {},
   "outputs": [
    {
     "data": {
      "text/plain": [
       "(88, 15)"
      ]
     },
     "execution_count": 17,
     "metadata": {},
     "output_type": "execute_result"
    }
   ],
   "source": [
    "dummie.shape"
   ]
  },
  {
   "cell_type": "code",
   "execution_count": 18,
   "id": "39b8126d",
   "metadata": {},
   "outputs": [
    {
     "data": {
      "text/html": [
       "<div>\n",
       "<style scoped>\n",
       "    .dataframe tbody tr th:only-of-type {\n",
       "        vertical-align: middle;\n",
       "    }\n",
       "\n",
       "    .dataframe tbody tr th {\n",
       "        vertical-align: top;\n",
       "    }\n",
       "\n",
       "    .dataframe thead th {\n",
       "        text-align: right;\n",
       "    }\n",
       "</style>\n",
       "<table border=\"1\" class=\"dataframe\">\n",
       "  <thead>\n",
       "    <tr style=\"text-align: right;\">\n",
       "      <th></th>\n",
       "      <th>Length</th>\n",
       "      <th>Breadth</th>\n",
       "      <th>Foldings</th>\n",
       "      <th>Distance</th>\n",
       "      <th>Person_Giri</th>\n",
       "      <th>Person_Kevin</th>\n",
       "      <th>Person_Priya</th>\n",
       "      <th>Person_Shabana</th>\n",
       "      <th>Angle_Angle</th>\n",
       "      <th>Angle_L</th>\n",
       "      <th>Angle_U</th>\n",
       "      <th>Windspeed _Off</th>\n",
       "      <th>Windspeed _On</th>\n",
       "      <th>Dominanthand_L</th>\n",
       "      <th>Dominanthand_R</th>\n",
       "    </tr>\n",
       "  </thead>\n",
       "  <tbody>\n",
       "    <tr>\n",
       "      <th>0</th>\n",
       "      <td>29.000000</td>\n",
       "      <td>20.0</td>\n",
       "      <td>8</td>\n",
       "      <td>5</td>\n",
       "      <td>0</td>\n",
       "      <td>1</td>\n",
       "      <td>0</td>\n",
       "      <td>0</td>\n",
       "      <td>0</td>\n",
       "      <td>0</td>\n",
       "      <td>1</td>\n",
       "      <td>0</td>\n",
       "      <td>1</td>\n",
       "      <td>1</td>\n",
       "      <td>0</td>\n",
       "    </tr>\n",
       "    <tr>\n",
       "      <th>1</th>\n",
       "      <td>23.000000</td>\n",
       "      <td>16.0</td>\n",
       "      <td>8</td>\n",
       "      <td>5</td>\n",
       "      <td>0</td>\n",
       "      <td>1</td>\n",
       "      <td>0</td>\n",
       "      <td>0</td>\n",
       "      <td>0</td>\n",
       "      <td>0</td>\n",
       "      <td>1</td>\n",
       "      <td>0</td>\n",
       "      <td>1</td>\n",
       "      <td>1</td>\n",
       "      <td>0</td>\n",
       "    </tr>\n",
       "    <tr>\n",
       "      <th>2</th>\n",
       "      <td>26.708451</td>\n",
       "      <td>18.0</td>\n",
       "      <td>10</td>\n",
       "      <td>6</td>\n",
       "      <td>0</td>\n",
       "      <td>1</td>\n",
       "      <td>0</td>\n",
       "      <td>0</td>\n",
       "      <td>0</td>\n",
       "      <td>1</td>\n",
       "      <td>0</td>\n",
       "      <td>0</td>\n",
       "      <td>1</td>\n",
       "      <td>0</td>\n",
       "      <td>1</td>\n",
       "    </tr>\n",
       "    <tr>\n",
       "      <th>3</th>\n",
       "      <td>27.000000</td>\n",
       "      <td>20.0</td>\n",
       "      <td>10</td>\n",
       "      <td>4</td>\n",
       "      <td>0</td>\n",
       "      <td>0</td>\n",
       "      <td>1</td>\n",
       "      <td>0</td>\n",
       "      <td>0</td>\n",
       "      <td>0</td>\n",
       "      <td>1</td>\n",
       "      <td>0</td>\n",
       "      <td>1</td>\n",
       "      <td>0</td>\n",
       "      <td>1</td>\n",
       "    </tr>\n",
       "    <tr>\n",
       "      <th>4</th>\n",
       "      <td>29.500000</td>\n",
       "      <td>17.5</td>\n",
       "      <td>5</td>\n",
       "      <td>8</td>\n",
       "      <td>0</td>\n",
       "      <td>0</td>\n",
       "      <td>1</td>\n",
       "      <td>0</td>\n",
       "      <td>0</td>\n",
       "      <td>0</td>\n",
       "      <td>1</td>\n",
       "      <td>1</td>\n",
       "      <td>0</td>\n",
       "      <td>0</td>\n",
       "      <td>1</td>\n",
       "    </tr>\n",
       "  </tbody>\n",
       "</table>\n",
       "</div>"
      ],
      "text/plain": [
       "      Length  Breadth  Foldings  Distance  Person_Giri  Person_Kevin  \\\n",
       "0  29.000000     20.0         8         5            0             1   \n",
       "1  23.000000     16.0         8         5            0             1   \n",
       "2  26.708451     18.0        10         6            0             1   \n",
       "3  27.000000     20.0        10         4            0             0   \n",
       "4  29.500000     17.5         5         8            0             0   \n",
       "\n",
       "   Person_Priya  Person_Shabana  Angle_Angle  Angle_L  Angle_U  \\\n",
       "0             0               0            0        0        1   \n",
       "1             0               0            0        0        1   \n",
       "2             0               0            0        1        0   \n",
       "3             1               0            0        0        1   \n",
       "4             1               0            0        0        1   \n",
       "\n",
       "   Windspeed _Off  Windspeed _On  Dominanthand_L  Dominanthand_R  \n",
       "0               0              1               1               0  \n",
       "1               0              1               1               0  \n",
       "2               0              1               0               1  \n",
       "3               0              1               0               1  \n",
       "4               1              0               0               1  "
      ]
     },
     "execution_count": 18,
     "metadata": {},
     "output_type": "execute_result"
    }
   ],
   "source": [
    "dummie.head()"
   ]
  },
  {
   "cell_type": "code",
   "execution_count": 19,
   "id": "031dadba",
   "metadata": {},
   "outputs": [],
   "source": [
    "x=dummie.drop([\"Distance\"],axis=1)"
   ]
  },
  {
   "cell_type": "code",
   "execution_count": 20,
   "id": "33a90c69",
   "metadata": {},
   "outputs": [],
   "source": [
    "y=dummie[\"Distance\"]"
   ]
  },
  {
   "cell_type": "code",
   "execution_count": 21,
   "id": "61e1692e",
   "metadata": {},
   "outputs": [],
   "source": [
    "trainx,testx,trainy,testy=train_test_split(x,y,test_size=0.2,random_state=42)"
   ]
  },
  {
   "cell_type": "markdown",
   "id": "3b3006c8",
   "metadata": {},
   "source": [
    "# logistic regression"
   ]
  },
  {
   "cell_type": "code",
   "execution_count": 22,
   "id": "14a35d98",
   "metadata": {},
   "outputs": [
    {
     "name": "stderr",
     "output_type": "stream",
     "text": [
      "C:\\anaconda\\lib\\site-packages\\sklearn\\linear_model\\_logistic.py:763: ConvergenceWarning: lbfgs failed to converge (status=1):\n",
      "STOP: TOTAL NO. of ITERATIONS REACHED LIMIT.\n",
      "\n",
      "Increase the number of iterations (max_iter) or scale the data as shown in:\n",
      "    https://scikit-learn.org/stable/modules/preprocessing.html\n",
      "Please also refer to the documentation for alternative solver options:\n",
      "    https://scikit-learn.org/stable/modules/linear_model.html#logistic-regression\n",
      "  n_iter_i = _check_optimize_result(\n"
     ]
    }
   ],
   "source": [
    "model = LogisticRegression().fit(trainx,trainy)"
   ]
  },
  {
   "cell_type": "code",
   "execution_count": 23,
   "id": "9eebe2eb",
   "metadata": {
    "scrolled": true
   },
   "outputs": [
    {
     "data": {
      "text/plain": [
       "array([7, 6, 3, 7, 7, 7, 7, 6, 7, 7, 7, 5, 5, 6, 6, 5, 7, 6], dtype=int64)"
      ]
     },
     "execution_count": 23,
     "metadata": {},
     "output_type": "execute_result"
    }
   ],
   "source": [
    "model.predict(testx)"
   ]
  },
  {
   "cell_type": "code",
   "execution_count": 24,
   "id": "f6bf763d",
   "metadata": {},
   "outputs": [],
   "source": [
    "m=model.score(testx,testy)"
   ]
  },
  {
   "cell_type": "code",
   "execution_count": 25,
   "id": "7720365f",
   "metadata": {},
   "outputs": [
    {
     "data": {
      "text/plain": [
       "0.1111111111111111"
      ]
     },
     "execution_count": 25,
     "metadata": {},
     "output_type": "execute_result"
    }
   ],
   "source": [
    "m"
   ]
  },
  {
   "cell_type": "code",
   "execution_count": 26,
   "id": "a6583406",
   "metadata": {},
   "outputs": [],
   "source": [
    "rme=sqrt(mean_squared_error(testy,model.predict(testx)))"
   ]
  },
  {
   "cell_type": "code",
   "execution_count": 27,
   "id": "9e3ee419",
   "metadata": {},
   "outputs": [
    {
     "data": {
      "text/plain": [
       "1.9293061504650375"
      ]
     },
     "execution_count": 27,
     "metadata": {},
     "output_type": "execute_result"
    }
   ],
   "source": [
    "rme"
   ]
  },
  {
   "cell_type": "markdown",
   "id": "a61f2da2",
   "metadata": {},
   "source": [
    "# RandomForestClassifier"
   ]
  },
  {
   "cell_type": "code",
   "execution_count": 28,
   "id": "207e73b7",
   "metadata": {},
   "outputs": [
    {
     "data": {
      "text/plain": [
       "RandomForestClassifier(random_state=0)"
      ]
     },
     "execution_count": 28,
     "metadata": {},
     "output_type": "execute_result"
    }
   ],
   "source": [
    "regr = RandomForestClassifier(random_state=0)\n",
    "regr.fit(x, y)"
   ]
  },
  {
   "cell_type": "code",
   "execution_count": 29,
   "id": "dbc50e2a",
   "metadata": {
    "scrolled": true
   },
   "outputs": [
    {
     "data": {
      "text/plain": [
       "array([7, 6, 7, 6, 5, 7, 4, 8, 7, 5, 7, 5, 8, 5, 8, 5, 7, 6], dtype=int64)"
      ]
     },
     "execution_count": 29,
     "metadata": {},
     "output_type": "execute_result"
    }
   ],
   "source": [
    "regr.predict(testx)"
   ]
  },
  {
   "cell_type": "code",
   "execution_count": 30,
   "id": "c91fb1a1",
   "metadata": {},
   "outputs": [],
   "source": [
    "s=regr.score(testx,testy)"
   ]
  },
  {
   "cell_type": "code",
   "execution_count": 31,
   "id": "22c3d9f3",
   "metadata": {},
   "outputs": [
    {
     "data": {
      "text/plain": [
       "0.5555555555555556"
      ]
     },
     "execution_count": 31,
     "metadata": {},
     "output_type": "execute_result"
    }
   ],
   "source": [
    "s"
   ]
  },
  {
   "cell_type": "code",
   "execution_count": 32,
   "id": "e9144c7b",
   "metadata": {},
   "outputs": [],
   "source": [
    "rme2=sqrt(mean_squared_error(testy,regr.predict(testx)))"
   ]
  },
  {
   "cell_type": "code",
   "execution_count": 33,
   "id": "2405b1ec",
   "metadata": {},
   "outputs": [
    {
     "data": {
      "text/plain": [
       "1.224744871391589"
      ]
     },
     "execution_count": 33,
     "metadata": {},
     "output_type": "execute_result"
    }
   ],
   "source": [
    "rme2"
   ]
  },
  {
   "cell_type": "markdown",
   "id": "731a8c34",
   "metadata": {},
   "source": [
    "# GradientBoostingClassifier"
   ]
  },
  {
   "cell_type": "code",
   "execution_count": 34,
   "id": "96dd4c07",
   "metadata": {
    "scrolled": true
   },
   "outputs": [],
   "source": [
    "clf = GradientBoostingClassifier(n_estimators=100, learning_rate=1.0,max_depth=1, random_state=0).fit(trainx, trainy)\n"
   ]
  },
  {
   "cell_type": "code",
   "execution_count": 35,
   "id": "6c60a49a",
   "metadata": {},
   "outputs": [
    {
     "data": {
      "text/plain": [
       "array([7, 6, 4, 9, 7, 7, 7, 8, 7, 7, 7, 7, 3, 5, 8, 5, 7, 6], dtype=int64)"
      ]
     },
     "execution_count": 35,
     "metadata": {},
     "output_type": "execute_result"
    }
   ],
   "source": [
    "clf.predict(testx)"
   ]
  },
  {
   "cell_type": "code",
   "execution_count": 36,
   "id": "71caa567",
   "metadata": {},
   "outputs": [],
   "source": [
    "d=clf.score(testx, testy)"
   ]
  },
  {
   "cell_type": "code",
   "execution_count": 37,
   "id": "bfe0dead",
   "metadata": {},
   "outputs": [
    {
     "data": {
      "text/plain": [
       "0.2222222222222222"
      ]
     },
     "execution_count": 37,
     "metadata": {},
     "output_type": "execute_result"
    }
   ],
   "source": [
    "d"
   ]
  },
  {
   "cell_type": "code",
   "execution_count": 38,
   "id": "3f384670",
   "metadata": {},
   "outputs": [],
   "source": [
    "rme3=sqrt(mean_squared_error(testy,clf.predict(testx)))"
   ]
  },
  {
   "cell_type": "code",
   "execution_count": 39,
   "id": "c9bd7d8f",
   "metadata": {},
   "outputs": [
    {
     "data": {
      "text/plain": [
       "2.2973414586817036"
      ]
     },
     "execution_count": 39,
     "metadata": {},
     "output_type": "execute_result"
    }
   ],
   "source": [
    "rme3"
   ]
  },
  {
   "cell_type": "markdown",
   "id": "d04a8df7",
   "metadata": {},
   "source": [
    "# AdaBoostClassifier"
   ]
  },
  {
   "cell_type": "code",
   "execution_count": 40,
   "id": "bb3ebba0",
   "metadata": {},
   "outputs": [],
   "source": [
    "clf2 = AdaBoostClassifier(n_estimators=100, random_state=0).fit(trainx,trainy)\n"
   ]
  },
  {
   "cell_type": "code",
   "execution_count": 41,
   "id": "dcae4764",
   "metadata": {},
   "outputs": [
    {
     "data": {
      "text/plain": [
       "array([7, 6, 3, 6, 7, 7, 7, 5, 7, 7, 7, 5, 6, 6, 5, 7, 7, 6], dtype=int64)"
      ]
     },
     "execution_count": 41,
     "metadata": {},
     "output_type": "execute_result"
    }
   ],
   "source": [
    "clf2.predict(testx)"
   ]
  },
  {
   "cell_type": "code",
   "execution_count": 42,
   "id": "4487b8e8",
   "metadata": {},
   "outputs": [],
   "source": [
    "g=clf2.score(testx, testy)"
   ]
  },
  {
   "cell_type": "code",
   "execution_count": 43,
   "id": "7afa3d48",
   "metadata": {},
   "outputs": [
    {
     "data": {
      "text/plain": [
       "0.2777777777777778"
      ]
     },
     "execution_count": 43,
     "metadata": {},
     "output_type": "execute_result"
    }
   ],
   "source": [
    "g"
   ]
  },
  {
   "cell_type": "code",
   "execution_count": 44,
   "id": "2f55900e",
   "metadata": {},
   "outputs": [],
   "source": [
    "rme4=sqrt(mean_squared_error(testy,clf2.predict(testx)))"
   ]
  },
  {
   "cell_type": "code",
   "execution_count": 45,
   "id": "54f13b11",
   "metadata": {},
   "outputs": [
    {
     "data": {
      "text/plain": [
       "1.8408935028645435"
      ]
     },
     "execution_count": 45,
     "metadata": {},
     "output_type": "execute_result"
    }
   ],
   "source": [
    "rme4"
   ]
  },
  {
   "cell_type": "markdown",
   "id": "32fb349e",
   "metadata": {},
   "source": [
    "# DecisionTreeClassifier"
   ]
  },
  {
   "cell_type": "code",
   "execution_count": 46,
   "id": "67ceba91",
   "metadata": {},
   "outputs": [
    {
     "data": {
      "text/plain": [
       "DecisionTreeClassifier(random_state=0)"
      ]
     },
     "execution_count": 46,
     "metadata": {},
     "output_type": "execute_result"
    }
   ],
   "source": [
    "dt=DecisionTreeClassifier(random_state=0)\n",
    "dt.fit(trainx,trainy)"
   ]
  },
  {
   "cell_type": "code",
   "execution_count": 47,
   "id": "d8e64db0",
   "metadata": {},
   "outputs": [
    {
     "data": {
      "text/plain": [
       "array([1, 6, 4, 3, 7, 1, 1, 6, 7, 7, 7, 5, 3, 5, 6, 5, 7, 6], dtype=int64)"
      ]
     },
     "execution_count": 47,
     "metadata": {},
     "output_type": "execute_result"
    }
   ],
   "source": [
    "dt.predict(testx)"
   ]
  },
  {
   "cell_type": "code",
   "execution_count": 48,
   "id": "3774e21c",
   "metadata": {},
   "outputs": [],
   "source": [
    "c=dt.score(testx,testy)"
   ]
  },
  {
   "cell_type": "code",
   "execution_count": 49,
   "id": "4540cbc6",
   "metadata": {},
   "outputs": [
    {
     "data": {
      "text/plain": [
       "0.1111111111111111"
      ]
     },
     "execution_count": 49,
     "metadata": {},
     "output_type": "execute_result"
    }
   ],
   "source": [
    "c"
   ]
  },
  {
   "cell_type": "code",
   "execution_count": 50,
   "id": "9117dca0",
   "metadata": {},
   "outputs": [],
   "source": [
    "rme5=sqrt(mean_squared_error(testy,dt.predict(testx),squared=False))"
   ]
  },
  {
   "cell_type": "code",
   "execution_count": 51,
   "id": "3e3d920b",
   "metadata": {},
   "outputs": [
    {
     "data": {
      "text/plain": [
       "1.6788654167466672"
      ]
     },
     "execution_count": 51,
     "metadata": {},
     "output_type": "execute_result"
    }
   ],
   "source": [
    "rme5"
   ]
  },
  {
   "cell_type": "code",
   "execution_count": 52,
   "id": "f59aeb94",
   "metadata": {},
   "outputs": [],
   "source": [
    "from tabulate import tabulate"
   ]
  },
  {
   "cell_type": "code",
   "execution_count": 53,
   "id": "3e504dc5",
   "metadata": {},
   "outputs": [],
   "source": [
    "mydata = [\n",
    "    [\"logistic regression\",m],\n",
    "    [\"decision_tree_Classifier\", c],\n",
    "    [\"random_forest_Classifier\", s],\n",
    "    [\"gradient_boosting_Classifier\",d],\n",
    "    [\"ada_boosting_Classifier\",g]\n",
    "    ]"
   ]
  },
  {
   "cell_type": "code",
   "execution_count": 54,
   "id": "98d6d095",
   "metadata": {},
   "outputs": [],
   "source": [
    "head1 = [\"Method\", \"score\"]"
   ]
  },
  {
   "cell_type": "code",
   "execution_count": 55,
   "id": "586a229d",
   "metadata": {},
   "outputs": [
    {
     "name": "stdout",
     "output_type": "stream",
     "text": [
      "+------------------------------+----------+\n",
      "| Method                       |    score |\n",
      "+==============================+==========+\n",
      "| logistic regression          | 0.111111 |\n",
      "+------------------------------+----------+\n",
      "| decision_tree_Classifier     | 0.111111 |\n",
      "+------------------------------+----------+\n",
      "| random_forest_Classifier     | 0.555556 |\n",
      "+------------------------------+----------+\n",
      "| gradient_boosting_Classifier | 0.222222 |\n",
      "+------------------------------+----------+\n",
      "| ada_boosting_Classifier      | 0.277778 |\n",
      "+------------------------------+----------+\n"
     ]
    }
   ],
   "source": [
    "print(tabulate(mydata, headers=head1, tablefmt=\"grid\"))"
   ]
  },
  {
   "cell_type": "code",
   "execution_count": 56,
   "id": "02bc4f5d",
   "metadata": {},
   "outputs": [],
   "source": [
    "mydata2 = [\n",
    "    [\"logistic regression\",rme],\n",
    "    [\"decision_tree_Classifier\",rme5],\n",
    "    [\"random_forest_Classifier\", rme2],\n",
    "    [\"gradient_boosting_Classifier\",rme3],\n",
    "    [\"ada_boosting_Classifier\",rme4]\n",
    "    ]"
   ]
  },
  {
   "cell_type": "code",
   "execution_count": 57,
   "id": "fea8d29a",
   "metadata": {},
   "outputs": [],
   "source": [
    "head = [\"Method\", \"rootmean\"]"
   ]
  },
  {
   "cell_type": "code",
   "execution_count": 58,
   "id": "e9fa300c",
   "metadata": {},
   "outputs": [
    {
     "name": "stdout",
     "output_type": "stream",
     "text": [
      "+------------------------------+------------+\n",
      "| Method                       |   rootmean |\n",
      "+==============================+============+\n",
      "| logistic regression          |    1.92931 |\n",
      "+------------------------------+------------+\n",
      "| decision_tree_Classifier     |    1.67887 |\n",
      "+------------------------------+------------+\n",
      "| random_forest_Classifier     |    1.22474 |\n",
      "+------------------------------+------------+\n",
      "| gradient_boosting_Classifier |    2.29734 |\n",
      "+------------------------------+------------+\n",
      "| ada_boosting_Classifier      |    1.84089 |\n",
      "+------------------------------+------------+\n"
     ]
    }
   ],
   "source": [
    "print(tabulate(mydata2, headers=head, tablefmt=\"grid\"))"
   ]
  },
  {
   "cell_type": "code",
   "execution_count": null,
   "id": "d0251e7f",
   "metadata": {},
   "outputs": [],
   "source": []
  }
 ],
 "metadata": {
  "kernelspec": {
   "display_name": "Python 3 (ipykernel)",
   "language": "python",
   "name": "python3"
  },
  "language_info": {
   "codemirror_mode": {
    "name": "ipython",
    "version": 3
   },
   "file_extension": ".py",
   "mimetype": "text/x-python",
   "name": "python",
   "nbconvert_exporter": "python",
   "pygments_lexer": "ipython3",
   "version": "3.9.7"
  }
 },
 "nbformat": 4,
 "nbformat_minor": 5
}
